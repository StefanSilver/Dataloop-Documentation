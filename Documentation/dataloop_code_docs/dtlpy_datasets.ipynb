{
 "cells": [
  {
   "cell_type": "markdown",
   "id": "d4e3dd15",
   "metadata": {},
   "source": [
    "# dtlpy.datasets\n",
    "\n",
    "\n",
    "In this Jupyter notebook, we will describe how to use each method in the `dtlpy.datasets`. We will describe each function in-depth, so you can know everything about each function by the end of this section.\n",
    "\n",
    "--------------------------\n",
    "\n",
    "[dl.datasets.create()](#create) | [dl.datasets.get()](#get) | [dl.datasets.clone()](#clone) | [dl.datasets.delete()](#delete) | [dl.datasets.directory_tree()](#directory_tree) | [dl.datasets.download_annotations()](#download_annotations) | [dl.datasets.list()](#list) | [dl.datasets.merge()](#merge) | [dl.datasets.open_in_web()](#open_in_web) | [dl.datasets.set_readonly()](#set_readonly) | [dl.datasets.update()](#update) | [dl.datasets.upload_annotations()](#upload_annotations)\n",
    "\n",
    "---------------------------"
   ]
  },
  {
   "cell_type": "markdown",
   "id": "bb1e6264",
   "metadata": {},
   "source": [
    "## Import dtlpy and log in to Dataloop"
   ]
  },
  {
   "cell_type": "code",
   "execution_count": 8,
   "id": "4838290f",
   "metadata": {},
   "outputs": [],
   "source": [
    "import dtlpy as dl\n",
    "dl.setenv('prod')\n",
    "#Logging in to Dataloop (checks if token expired ~24h expiration time for token)\n",
    "if dl.token_expired():\n",
    "   dl.login()\n",
    "#you can also use the simple login: \n",
    "#dl.login()"
   ]
  },
  {
   "cell_type": "markdown",
   "id": "bb694988",
   "metadata": {},
   "source": [
    "## Select Project\n",
    "To work with Datasets, you must first select a Project to which you will add your Dataset. For that purpose, let's create a new Project. You can do that using:\n",
    "```python\n",
    "dl.projects.create(project_name='Dataset_Project')\n",
    "proj = dl.projects.get(project_name='Dataset_Project')\n",
    "```\n",
    "And you can then print the details of the new Project you just created:\n",
    "```python\n",
    "print(proj)\n",
    "```\n",
    "The output should look like this:\n",
    "```python\n",
    "Project(created_at=1683805649832, creator='email@gmail.com', id='b9ee960e-9626-46c7-92d9-95c84d6a2730', name='Dataset_Project', feature_constraints=[{'name': 'downloadJsons', 'quota': 1, 'title': 'Download Annotation as Json'}, {'name': 'createGPUService', 'quota': 1, 'title': 'Create GPU service'}, {'name': 'createIntegration', 'quota': 1, 'title': 'Create Integrations'}, {'name': 'createDriver', 'quota': 1, 'title': 'Create Driver'}])\n",
    "```"
   ]
  },
  {
   "cell_type": "code",
   "execution_count": 2,
   "id": "1e280618",
   "metadata": {},
   "outputs": [],
   "source": [
    "dl.projects.create(project_name='Dataset_Project') # run only once - or you'll get error (harmless error, but it looks ugly)"
   ]
  },
  {
   "cell_type": "code",
   "execution_count": 9,
   "id": "94f611bd",
   "metadata": {},
   "outputs": [],
   "source": [
    "proj = dl.projects.get(project_name='Dataset_Project')"
   ]
  },
  {
   "cell_type": "code",
   "execution_count": 19,
   "id": "1b1cdc2c",
   "metadata": {},
   "outputs": [
    {
     "name": "stdout",
     "output_type": "stream",
     "text": [
      "Project(created_at=1683805649832, creator='myfuncont@gmail.com', id='b9ee960e-9626-46c7-92d9-95c84d6a2730', name='Dataset_Project', feature_constraints=[{'name': 'downloadJsons', 'quota': 1, 'title': 'Download Annotation as Json'}, {'name': 'createGPUService', 'quota': 1, 'title': 'Create GPU service'}, {'name': 'createIntegration', 'quota': 1, 'title': 'Create Integrations'}, {'name': 'createDriver', 'quota': 1, 'title': 'Create Driver'}])\n"
     ]
    }
   ],
   "source": [
    "print(proj) "
   ]
  },
  {
   "cell_type": "code",
   "execution_count": null,
   "id": "03b39f13",
   "metadata": {},
   "outputs": [],
   "source": []
  },
  {
   "cell_type": "markdown",
   "id": "eaed684e",
   "metadata": {},
   "source": [
    "## <a name=\"create\"></a> dl.datasets.create()\n",
    "The `dl.datasets.create()` method allows you to create a new Dataset in the Project that  you are currently working on.\n",
    "\n",
    "You can see all of the details of this function, below.\n",
    "\n",
    "### create()\n",
    "\n",
    "**Definition:**  `create(dataset_name: str, labels=None, attributes=None, ontology_ids=None, driver: entities.Driver=None, driver_id: str=None, checkout: bool=False, expiration_options: entities.ExpirationOptions=None, index_driver: entities.IndexDriver=None, recipe_id: str=None) -> entities.Dataset`\n",
    "\n",
    "***Creates a new Dataset in the current Project.***\n",
    "\n",
    "**Prerequisites:** You must be in the role of an Owner or Developer (engineer).\n",
    "\n",
    "**param str dataset_name**\n",
    "- The Name of the Dataset\n",
    "\n",
    "**param list labels**\n",
    "- Dictionary of {tag: color} or list of Label entities\n",
    "\n",
    "**param list attributes**\n",
    "- The Dataset's Ontology's attributes\n",
    "\n",
    "**param list ontology_ids**\n",
    "- (optional) The Dataset's Ontology\n",
    "\n",
    "**param dtlpy.entities.driver.Driver driver**\n",
    "- (optional) Storage driver, driver object or driver name\n",
    "\n",
    "**param str driver_id**\n",
    "- (optional) The Driver's ID\n",
    "\n",
    "**param bool checkout**\n",
    "- Sets the Dataset as a default Dataset object (cookies)\n",
    "\n",
    "**param ExpirationOptions expiration_options**\n",
    "- dl.ExpirationOptions object that contain definitions for the Dataset like MaxItemDays\n",
    "\n",
    "**param str index_driver**\n",
    "- dl.IndexDriver, Dataset driver's version\n",
    "\n",
    "**param str recipe_id**\n",
    "- (optional) The Recipe's ID\n",
    "\n",
    "**return**\n",
    "- Dataset object\n",
    "\n",
    "**rtype**\n",
    "- dtlpy.entities.dataset.Dataset\n",
    "\n",
    "**Simple Creation Example:**\n",
    "```python\n",
    "project.datasets.create(dataset_name='dataset_name')\n",
    "```\n",
    "We will create a new dataset called `Test_Dataset` using the code above:\n",
    "```python\n",
    "dl.datasets.create(dataset_name='Test_Dataset')\n",
    "```\n",
    "Once you run that command, you should see an output that is similar to this:\n",
    "```python\n",
    "ataset(id='645cee1b05c36859784c0b37', url='https://gate.dataloop.ai/api/v1/datasets/645cee1b05c36859784c0b37', name='Test_Dataset', creator='email@gmail.com', items_count=0, expiration_options=None, index_driver='v1', created_at='2023-05-11T13:31:07.545Z')\n",
    "```"
   ]
  },
  {
   "cell_type": "code",
   "execution_count": 21,
   "id": "8d7dbe06",
   "metadata": {},
   "outputs": [
    {
     "data": {
      "text/plain": [
       "Dataset(id='645e54554da72568414553b7', url='https://gate.dataloop.ai/api/v1/datasets/645e54554da72568414553b7', name='Test_Dataset', creator='myfuncont@gmail.com', items_count=0, expiration_options=None, index_driver='v1', created_at='2023-05-12T14:59:33.939Z')"
      ]
     },
     "execution_count": 21,
     "metadata": {},
     "output_type": "execute_result"
    }
   ],
   "source": [
    "dl.datasets.create(dataset_name='Test_Dataset') #run only once, or you'll get a (harmless) error"
   ]
  },
  {
   "cell_type": "code",
   "execution_count": null,
   "id": "4edc6d75",
   "metadata": {},
   "outputs": [],
   "source": []
  },
  {
   "cell_type": "markdown",
   "id": "7146e2cd",
   "metadata": {},
   "source": [
    "## <a name=\"get\"></a> dl.datasets.get()\n",
    "The `dl.datasets.get()` method allows you to retrieve the Dataset from Datalopp's platform, inside your working code, or inside of a variable.\n",
    "\n",
    "You can see all of the details about this method below.\n",
    "\n",
    "### get()\n",
    "\n",
    "**Definition:** `get(dataset_name: str=None, dataset_id: str=None, checkout: bool=False, fetch: bool=None) -> entities.Dataset`\n",
    "\n",
    "***Retrieves a Dataset by Name or ID.***\n",
    "\n",
    "**Prerequisites:** You must be an Owner or Developer to use this method. **You must provide at least ONE of the following params: `dataset_id` or `dataset_name`.**\n",
    "\n",
    "**param str dataset_name**\n",
    "- (optional) search by Name\n",
    "\n",
    "**param str dataset_id**\n",
    "- (optional) search by Id\n",
    "\n",
    "**param bool checkout**\n",
    "- Sets the Dataset as a default Dataset object (cookies)\n",
    "\n",
    "**param bool fetch**\n",
    "- (optional) Fetch entity from platform (True); bydefault taken from cookie\n",
    "\n",
    "**return**\n",
    "- Dataset object\n",
    "\n",
    "**rtype**\n",
    "- dtlpy.entities.dataset.Dataset\n",
    "\n",
    "**Example:**\n",
    "```python\n",
    "dataset = dl.datasets.get(dataset_id='dataset_id')\n",
    "#or\n",
    "dataset= dl.dataset.get(dataset_name='dataset_name')\n",
    "\n",
    "```\n",
    "**Note:** We can also get the dataset directly from the Project entity (`proj`) that we created above (in this case, you need to `get()` the Project in a variable first). The code would look like this:\n",
    "```python\n",
    "dataset = proj.datasets.get(dataset_id='dataset_id')\n",
    "#or\n",
    "dataset= proj.dataset.get(dataset_name='dataset_name')\n",
    "```\n",
    "\n",
    "\n",
    "We will create a variable called `d_set` to avoid any confusion, and we will retrieve the Dataset we created, called `Test_Dataset` in it, using:\n",
    "```python\n",
    "d_set = dl.datasets.get(dataset_name='Test_Dataset')\n",
    "```\n",
    "We can then print the details of the `d_set` variable, to see that we retrieved the Dataset we wanted to:\n",
    "```python\n",
    "print(d_set)\n",
    "```\n",
    "The output should look like this:\n",
    "```python\n",
    "Dataset(id='645cee1b05c36859784c0b37', url='https://gate.dataloop.ai/api/v1/datasets/645cee1b05c36859784c0b37', name='Test_Dataset', creator='email@gmail.com', items_count=0, expiration_options=None, index_driver='v1', created_at='2023-05-11T13:31:07.545Z')\n",
    "```"
   ]
  },
  {
   "cell_type": "code",
   "execution_count": 10,
   "id": "d501267c",
   "metadata": {},
   "outputs": [],
   "source": [
    "d_set = dl.datasets.get(dataset_name='Test_Dataset')"
   ]
  },
  {
   "cell_type": "code",
   "execution_count": null,
   "id": "0bcdfd1f",
   "metadata": {},
   "outputs": [],
   "source": []
  },
  {
   "cell_type": "markdown",
   "id": "49799739",
   "metadata": {},
   "source": [
    "print(d_set)"
   ]
  },
  {
   "cell_type": "code",
   "execution_count": null,
   "id": "18f843aa",
   "metadata": {},
   "outputs": [],
   "source": []
  },
  {
   "cell_type": "markdown",
   "id": "6c006d3f",
   "metadata": {},
   "source": [
    "## <a name=\"clone\"></a> dl.datasets.clone()\n",
    "The `dl.datasets.get()` method allows you to clone a Dataset, so you can keep your original untouched and work on the clone without fear of breaking anything. This can also be used for Versioning, which allows you to make changes and create checkpoints for your Dataset.\n",
    "\n",
    "**Important!** The new Dataset will have the same Recipe and Ontology as the Original. [Read more about Recipes and Ontology](https://dataloop.ai/docs/taxonomy-overview), since they are critical building blocks of Datasets.\n",
    "\n",
    "You can find all the details about this method below.\n",
    "\n",
    "### clone()\n",
    "\n",
    "**Definition:** `clone(dataset_id: str, clone_name: str, filters: entities.Filters=None, with_items_annotations: bool=True, with_metadata: bool=True, with_task_annotations_status: bool=True)`\n",
    "\n",
    "***Clones an existing Dataset.*** [Read more about cloning datatsets here](https://dataloop.ai/docs/clone-merge-dataset). \n",
    "\n",
    "**Prerequisites:** You must have the role of  Owner or Developer (engineer).\n",
    "\n",
    "**param str dataset_id**\n",
    "id of the dataset you wish to clone\n",
    "\n",
    "**param str clone_name**\n",
    "new dataset name\n",
    "\n",
    "**param dtlpy.entities.filters.Filters filters**\n",
    "Filters entity or a query dict\n",
    "\n",
    "**param bool with_items_annotations**\n",
    "true to clone with items annotations\n",
    "\n",
    "**param bool with_metadata**\n",
    "true to clone with metadata\n",
    "\n",
    "**param bool with_task_annotations_status**\n",
    "true to clone with task annotations' status\n",
    "\n",
    "**return**\n",
    "dataset object\n",
    "\n",
    "**rtype**\n",
    "dtlpy.entities.dataset.Dataset\n",
    "\n",
    "**Example:**\n",
    "```python\n",
    "dataset_clone = proj.datasets.clone(dataset_id='dataset_id',\n",
    "                      clone_name='dataset_clone_name',\n",
    "                      with_metadata=True,\n",
    "                      with_items_annotations=False,\n",
    "                      with_task_annotations_status=False)\n",
    "```\n",
    "If we run that code on the existing Dataset we created `Test_Dataset`(you cane find the ID by running `d_set`), it will look like this:\n",
    "```python\n",
    "\n",
    "dataset_clone = proj.datasets.clone(dataset_id='645cee1b05c36859784c0b37',\n",
    "                      clone_name='Test_Dataset_Clone',\n",
    "                      with_metadata=True,\n",
    "                      with_items_annotations=False,#True if you want\n",
    "                      with_task_annotations_status=False)#True if you want\n",
    "```\n",
    "You should get a progress bar as an output. Wait untill it is completed for the clone to be created successfully:\n",
    "```python\n",
    "Command Progress: 100%|█████████████████████████████████████████████████████████████| 100/100 [00:00<00:00, 288.04it/s]\n",
    "```\n",
    "After that, you can check if the Clone was created, by printing the `dataset_clone` variable which should contain the cloned Dataset Object:\n",
    "```python\n",
    "print(dataset_clone) #print the cloned Dataset's details\n",
    "```\n",
    "The printed details should look similar to this:\n",
    "\n",
    "```python\n",
    "Dataset(id='645e3b5597a22fe0971aa231', url='https://gate.dataloop.ai/api/v1/datasets/645e3b5597a22fe0971aa231', name='Test_Dataset_Clone', creator='email@gmail.com', items_count=0, expiration_options=None, index_driver='v1', created_at='2023-05-12T13:12:53.211Z')\n",
    "```"
   ]
  },
  {
   "cell_type": "code",
   "execution_count": 23,
   "id": "42269f03",
   "metadata": {},
   "outputs": [
    {
     "name": "stdout",
     "output_type": "stream",
     "text": [
      "Command Progress: 100%|█████████████████████████████████████████████████████████████| 100/100 [00:00<00:00, 311.95it/s]"
     ]
    },
    {
     "name": "stderr",
     "output_type": "stream",
     "text": [
      "[2023-05-12 18:00:12][WAR][dtlpy:v1.76.17][entities.dataset:145] Dataset has been fetched from a project that is not in it projects list\n"
     ]
    },
    {
     "name": "stdout",
     "output_type": "stream",
     "text": [
      "\n"
     ]
    }
   ],
   "source": [
    "dataset_clone = proj.datasets.clone(dataset_id='645cee1b05c36859784c0b37',\n",
    "                      clone_name='Test_Dataset_Clone',\n",
    "                      with_metadata=True,\n",
    "                      with_items_annotations=False,#True if you want\n",
    "                      with_task_annotations_status=False)#True if you want"
   ]
  },
  {
   "cell_type": "code",
   "execution_count": 24,
   "id": "d5aa2753",
   "metadata": {},
   "outputs": [
    {
     "name": "stdout",
     "output_type": "stream",
     "text": [
      "Dataset(id='645e547c1f14b2609fe1f989', url='https://gate.dataloop.ai/api/v1/datasets/645e547c1f14b2609fe1f989', name='Test_Dataset_Clone', creator='myfuncont@gmail.com', items_count=0, expiration_options=None, index_driver='v1', created_at='2023-05-12T15:00:12.121Z')\n"
     ]
    }
   ],
   "source": [
    "print(dataset_clone)"
   ]
  },
  {
   "cell_type": "code",
   "execution_count": null,
   "id": "d50ab7ec",
   "metadata": {},
   "outputs": [],
   "source": []
  },
  {
   "cell_type": "markdown",
   "id": "56cbf357",
   "metadata": {},
   "source": [
    "----------------------------------------------\n",
    "## <a name=\"delete\"></a> dl.datasets.delete()\n",
    "The `dl.datasets.delete()` method allows you to permanently delete a Dataset from the Dataloop Platform. Make sure that you really want to remove the Dataset and all of its contents, as **the removal is permanent**.\n",
    "\n",
    "All of of the details about this method can be seen below.\n",
    "\n",
    "### delete()\n",
    "\n",
    "**Definition:** `delete(dataset_name: str=None, dataset_id: str=None, sure: bool=False, really: bool=False)`\n",
    "\n",
    "***Deletes a Dataset forever!***\n",
    "\n",
    "**Prerequisites:** You must be an Owner to use this method.\n",
    "\n",
    "\n",
    "**param str dataset_name**\n",
    "- (optional) Search by name\n",
    "\n",
    "**param str dataset_id**\n",
    "- (optional) Search by ID\n",
    "\n",
    "**param bool sure**\n",
    "- Are you sure you want to delete?\n",
    "\n",
    "**param bool really**\n",
    "- Really really sure that you are sure?\n",
    "\n",
    "**return**\n",
    "- True is success; are you sure you want success?\n",
    "\n",
    "**rtype**\n",
    "- bool\n",
    "\n",
    "**Example:**\n",
    "```python\n",
    "proj.datasets.delete(dataset_id='dataset_id', sure=True, really=True) # Are you sure you are sure?\n",
    "# or you can use with both name and id\n",
    "# dl.datasets.delete(dataset_name='Test_Dataset_Clone', sure=True, really=True) \n",
    "```\n",
    "For the purpose of showing how the `delete()` method works, we will delete the clone Dataset we created [above](#clone), called `Test_Dataset_Clone`:\n",
    "```python\n",
    "dl.datasets.delete(dataset_name='Test_Dataset_Clone', sure=True, really=True)\n",
    "# Or\n",
    "dl.datasets.delete(dataset_id='645e547c1f14b2609fe1f989', sure=True, really=True)\n",
    "```\n",
    "To this, you should get a simple output:\n",
    "```python\n",
    "True\n",
    "```\n",
    "**Note:** If the Dataset you want to delete is not in the current project you are working on, you **need** to use the `dl.datasets.delete(dataset_name='Test_Dataset_Clone', sure=True, really=True)`, as this option will look thorugh all of the Datasets you have in the current active Organization, on all Projects. \n",
    "***Important!***   We highly recommend that you delete a Dataset using its `ID`, as each ID is unique. This will always make sure that you delete the right ID. You can find the ID of all Datasets in the [WebUI version of Dataloop](https://dataloop.ai/) or by using `dl.datasets.list()` - in the current active Project. Just to make sure you know, an example of the command to delete by ID can be seen below:\n",
    "```python\n",
    "dl.datasets.delete(dataset_id='645e547c1f14b2609fe1f989', sure=True, really=True)\n",
    "```"
   ]
  },
  {
   "cell_type": "code",
   "execution_count": 17,
   "id": "fd90dad1",
   "metadata": {},
   "outputs": [
    {
     "name": "stderr",
     "output_type": "stream",
     "text": [
      "[2023-05-16 20:17:00][WAR][dtlpy:v1.76.17][entities.dataset:145] Dataset has been fetched from a project that is not in it projects list\n"
     ]
    },
    {
     "data": {
      "text/plain": [
       "True"
      ]
     },
     "execution_count": 17,
     "metadata": {},
     "output_type": "execute_result"
    }
   ],
   "source": [
    "dl.datasets.delete(dataset_id='645e547c1f14b2609fe1f989', sure=True, really=True)\n",
    "#If all goes right you should get a simple `True` boolean Output"
   ]
  },
  {
   "cell_type": "code",
   "execution_count": 27,
   "id": "1bed447e",
   "metadata": {},
   "outputs": [
    {
     "data": {
      "text/plain": [
       "[Dataset(id='645cd5d2702bd26db5ff8d5e', url='https://gate.dataloop.ai/api/v1/datasets/645cd5d2702bd26db5ff8d5e', name='Binaries', creator='myfuncont@gmail.com', items_count=0, expiration_options=None, index_driver='v1', created_at='2023-05-11T11:47:30.314Z'),\n",
       " Dataset(id='645e54554da72568414553b7', url='https://gate.dataloop.ai/api/v1/datasets/645e54554da72568414553b7', name='Test_Dataset', creator='myfuncont@gmail.com', items_count=0, expiration_options=None, index_driver='v1', created_at='2023-05-12T14:59:33.939Z')]"
      ]
     },
     "execution_count": 27,
     "metadata": {},
     "output_type": "execute_result"
    }
   ],
   "source": [
    "dl.datasets.list()"
   ]
  },
  {
   "cell_type": "code",
   "execution_count": null,
   "id": "3288c3f3",
   "metadata": {},
   "outputs": [],
   "source": []
  },
  {
   "cell_type": "markdown",
   "id": "526b13e5",
   "metadata": {},
   "source": [
    "## <a name=\"directory_tree\"></a> dl.datasets.directory_tree()\n",
    "The `dl.datasets.directory_tree()` method allows you to find out what your Dataset's location is in Dataloop's platform, and other details regarding your Dataset.\n",
    "\n",
    "You can find all the details about this method below.\n",
    "\n",
    "\n",
    "### directory_tree()\n",
    "**Definition:** `directory_tree(dataset: entities.Dataset=None, dataset_name: str=None, dataset_id: str=None)`\n",
    "\n",
    "***Gets a Dataset's directory tree.***\n",
    "\n",
    "**Prerequisites:** You must be an Owner or Developer(engineer) to use this method. \n",
    "\n",
    "**You must provide at least ONE of the following params: dataset, dataset_name, dataset_id.**\n",
    "\n",
    "**param dtlpy.entities.dataset.Dataset dataset**\n",
    "- Dataset Object\n",
    "\n",
    "**param str dataset_name**\n",
    "- The Name of the Dataset\n",
    "\n",
    "**param str dataset_id**\n",
    "- The Id of the Dataset\n",
    "\n",
    "**return**\n",
    "- DirectoryTree\n",
    "\n",
    "**Example:**\n",
    "```python\n",
    "directory_tree = dl.datasets.directory_tree(dataset='dataset_entity')\n",
    "```\n",
    "Let's run that example of the `Test_Dataset` we created:\n",
    "```python\n",
    "directory_tree = proj.datasets.directory_tree(dataset_name='Test_Dataset')\n",
    "directory_tree.tree\n",
    "\n",
    "```\n",
    "The output of the `directory_tree.tree` should look similar to this:\n",
    "```python\n",
    "{'value': {'id': '645e54554da725a6ed4553b9',\n",
    "  'datasetId': '645e54554da72568414553b7',\n",
    "  'url': 'https://gate.dataloop.ai/api/v1/items/645e54554da725a6ed4553b9',\n",
    "  'dataset': 'https://gate.dataloop.ai/api/v1/datasets/645e54554da72568414553b7',\n",
    "  'createdAt': '2023-05-12T14:59:33.000Z',\n",
    "  'dir': '/',\n",
    "  'filename': '/',\n",
    "  'type': 'dir',\n",
    "  'hidden': False,\n",
    "  'metadata': {},\n",
    "  'name': '',\n",
    "  'creator': 'email@gmail.com',\n",
    "  'items': 'https://gate.dataloop.ai/api/v1/datasets/645e54554da72568414553b7/items/645e54554da725a6ed4553b9/items',\n",
    "  'export': {'zip': 'https://gate.dataloop.ai/api/v1/datasets/645e54554da72568414553b7/annotations/zip?directory=/',\n",
    "   'json': 'https://gate.dataloop.ai/api/v1/datasets/645e54554da72568414553b7/annotations/json?directory=/'}},\n",
    " 'children': []}\n",
    "```"
   ]
  },
  {
   "cell_type": "code",
   "execution_count": 36,
   "id": "8deecde5",
   "metadata": {},
   "outputs": [],
   "source": [
    "directory_tree = proj.datasets.directory_tree(dataset_name='Test_Dataset')"
   ]
  },
  {
   "cell_type": "code",
   "execution_count": 35,
   "id": "4a6ad314",
   "metadata": {},
   "outputs": [
    {
     "data": {
      "text/plain": [
       "{'value': {'id': '645e54554da725a6ed4553b9',\n",
       "  'datasetId': '645e54554da72568414553b7',\n",
       "  'url': 'https://gate.dataloop.ai/api/v1/items/645e54554da725a6ed4553b9',\n",
       "  'dataset': 'https://gate.dataloop.ai/api/v1/datasets/645e54554da72568414553b7',\n",
       "  'createdAt': '2023-05-12T14:59:33.000Z',\n",
       "  'dir': '/',\n",
       "  'filename': '/',\n",
       "  'type': 'dir',\n",
       "  'hidden': False,\n",
       "  'metadata': {},\n",
       "  'name': '',\n",
       "  'creator': 'myfuncont@gmail.com',\n",
       "  'items': 'https://gate.dataloop.ai/api/v1/datasets/645e54554da72568414553b7/items/645e54554da725a6ed4553b9/items',\n",
       "  'export': {'zip': 'https://gate.dataloop.ai/api/v1/datasets/645e54554da72568414553b7/annotations/zip?directory=/',\n",
       "   'json': 'https://gate.dataloop.ai/api/v1/datasets/645e54554da72568414553b7/annotations/json?directory=/'}},\n",
       " 'children': []}"
      ]
     },
     "execution_count": 35,
     "metadata": {},
     "output_type": "execute_result"
    }
   ],
   "source": [
    "directory_tree.tree"
   ]
  },
  {
   "cell_type": "code",
   "execution_count": null,
   "id": "7dc8594f",
   "metadata": {},
   "outputs": [],
   "source": []
  },
  {
   "cell_type": "markdown",
   "id": "4a358fda",
   "metadata": {},
   "source": [
    "## <a name=\"download_annotations\"></a> dl.datasets.download_annotations()\n",
    "The `dl.datasets.download_annotations()` method allows you to download the Annotations and Items from a Dataset, depending on the Filter you are using. You can download as a mask, instance or an image mask of the Item.\n",
    "\n",
    "You can see all of the details about this method below.\n",
    "\n",
    "### download_annotations()\n",
    "\n",
    "Definition: ` download_annotations(dataset: entities.Dataset, local_path: str=None, filters: entities.Filters=None, annotation_options: entities.ViewAnnotationOptions=None, annotation_filters: entities.Filters=None, overwrite: bool=False, thickness: int=1, with_text: bool=False, remote_path: str=None, include_annotations_in_output: bool=True, export_png_files: bool=False, filter_output_annotations: bool=False, alpha: float=None, export_version=entities.ExportVersion.V1) -> str`\n",
    "\n",
    "***Download a Dataset's Annotations and/or Items by filters. You may filter the Dataset both for Items and for Annotations, and download them. Optionally you can download Annotations as: mask, instance, image mask of the Item.***\n",
    "\n",
    "\n",
    "\n",
    "**Prerequisites:** You must be in the role of Owner or Developer(engineer).\n",
    "\n",
    "**param dtlpy.entities.dataset.Dataset dataset**\n",
    "- Dataset object\n",
    "\n",
    "**param str local_path**\n",
    "- Local folder save location (and/or saved filename)  \n",
    "\n",
    "**param dtlpy.entities.filters.Filters filters**\n",
    "- Filters entity or a dictionary containing filters parameters\n",
    "\n",
    "**param list annotation_options**\n",
    "- Type of download annotations: list(dl.ViewAnnotationOptions)\n",
    "\n",
    "**param dtlpy.entities.filters.Filters annotation_filters**\n",
    "- Filters entity to filter annotations for download\n",
    "\n",
    "**param bool overwrite**\n",
    "- (optional) By default = False so it doesn't overwrite the existing files\n",
    "\n",
    "**param int thickness**\n",
    "- (optional) - line thickness, if -1 annotation will be filled, default =1\n",
    "\n",
    "**param bool with_text**\n",
    "optional - add text to annotations, default = False\n",
    "\n",
    "**param str remote_path**\n",
    "DEPRECATED and ignored\n",
    "\n",
    "**param bool include_annotations_in_output**\n",
    "default - False , if export should contain annotations\n",
    "\n",
    "**param bool export_png_files**\n",
    "default - if True, semantic annotations should be exported as png files\n",
    "\n",
    "**param bool filter_output_annotations**\n",
    "default - False, given an export by filter - determine if to filter out annotations\n",
    "\n",
    "**param float alpha**\n",
    "opacity value [0 1], default 1\n",
    "\n",
    "**param str export_version**\n",
    "exported items will have original extension in filename, V1 - no original extension in filenames\n",
    "\n",
    "**return**\n",
    "local_path of the directory where all the downloaded Item were placed\n",
    "\n",
    "**rtype**\n",
    "str\n",
    "\n",
    "Example:\n",
    "```python\n",
    "            #dl. or proj. (the project object/variable's name)\n",
    "file_path = dl.datasets.download_annotations(dataset='dataset_entity',\n",
    "                                     local_path='C:\\\\Users\\\\User\\\\Desktop\\\\dataloop_code_docs',\n",
    "                                     #(optional)annotation_options=dl.ViewAnnotationOptions,\n",
    "                                     overwrite=False,\n",
    "                                     thickness=1,\n",
    "                                     with_text=False,\n",
    "                                     alpha=1\n",
    "                                     )\n",
    "```\n",
    "In our case, a working example would be:\n",
    "```python\n",
    "# the dataset is d_set, or the variable in which you got the dataset object\n",
    "#Optionally, you can do\n",
    "#d_set = dl.datasets.get(dataset_name='Test_Dataset') #or your dataset's name/id\n",
    "file_path = dl.datasets.download_annotations(dataset=d_set,\n",
    "                                     local_path='local_path',\n",
    "                                     #(optional)annotation_options=dl.ViewAnnotationOptions,\n",
    "                                     overwrite=False,\n",
    "                                     thickness=1,\n",
    "                                     with_text=False,\n",
    "                                     alpha=1\n",
    "                                     )\n",
    "```\n",
    "And you'll get as an output a command progress bar and a download progress bar (wait for them to finish):\n",
    "```python\n",
    "Command Progress: 100%|██████████████████████████████████████████████████████████████| 100/100 [00:01<00:00, 53.51it/s]\n",
    "Download Items: 100%|████████████████████████████████████████████████████████████████████| 1/1 [00:00<00:00, 10.14it/s]\n",
    "```\n",
    "You can then print the `file_path` to see where your files were placed:\n",
    "```python\n",
    "print(file_path)\n",
    "```\n",
    "Which will show you where the files were saved:\n",
    "```python\n",
    "C:\\Users\\User\\Desktop\\dataloop_code_docs\n",
    "```\n",
    "**Note:** If you have no Items and no Annotations, a folder will be created where you will find an empty folder named `json`."
   ]
  },
  {
   "cell_type": "code",
   "execution_count": 59,
   "id": "ed0ff08a",
   "metadata": {},
   "outputs": [
    {
     "name": "stdout",
     "output_type": "stream",
     "text": [
      "Command Progress: 100%|█████████████████████████████████████████████████████████████| 100/100 [00:00<00:00, 130.49it/s]\n",
      "Download Items: 100%|████████████████████████████████████████████████████████████████████| 1/1 [00:00<00:00, 11.16it/s]\n"
     ]
    }
   ],
   "source": [
    "# the dataset is d_set, or the variable in which you got the dataset\n",
    "#Optionally, you can do\n",
    "d_set = dl.datasets.get(dataset_name='Test_Dataset') #or your dataset's name/id\n",
    "file_path= dl.datasets.download_annotations(dataset=d_set,\n",
    "                                     local_path='C:\\\\Users\\\\User\\\\Desktop\\\\dataloop_code_docs',#can change to a local path you define\n",
    "                                     #(optional)annotation_options=dl.ViewAnnotationOptions,\n",
    "                                     overwrite=False,\n",
    "                                     thickness=1,\n",
    "                                     with_text=False,\n",
    "                                     alpha=1\n",
    "                                     )"
   ]
  },
  {
   "cell_type": "code",
   "execution_count": 60,
   "id": "f3c371cc",
   "metadata": {},
   "outputs": [
    {
     "name": "stdout",
     "output_type": "stream",
     "text": [
      "C:\\Users\\User\\Desktop\\dataloop_code_docs\n"
     ]
    }
   ],
   "source": [
    "print(file_path)"
   ]
  },
  {
   "cell_type": "code",
   "execution_count": null,
   "id": "2220a337",
   "metadata": {},
   "outputs": [],
   "source": []
  },
  {
   "cell_type": "markdown",
   "id": "cbb6e1f7",
   "metadata": {},
   "source": [
    "# <a name=\"list\"></a> dl.datasets.list()\n",
    "\n",
    "The `dl.datasets.list()` method allows you to list all of the Datasets in your active Project **or** to list all of the Datasets you have, **if you have no active Project selected**. If you use the `.list()` method on a Project object, or if you used the `get()` method to get a Project in your code, it will list all of the Datasets inside of that Project. If you use it as `dl.datasets.list()`, before using `get()` to select a Project, it will list all of the Datasets that you have in all of your Projects. This method also allows you to list the details about a particular Dataset (by name) or list all Datasets created by a specific creator.\n",
    "\n",
    "We will cover all uses, after showing the details about this function, below.\n",
    "\n",
    "## list()\n",
    "\n",
    "**Definition:** `list(name=None, creator=None) -> miscellaneous.List[entities.Dataset]`\n",
    "\n",
    "***Lists all Datasets in the active Project.***\n",
    "\n",
    "**Prerequisites:** You must be an Owner or Developer(engineer) to use this method.\n",
    "\n",
    "**param str name**\n",
    "- list by name\n",
    "\n",
    "**param str creator**\n",
    "- list by creator\n",
    "\n",
    "**return**\n",
    "- List of Datasets\n",
    "\n",
    "**rtype**\n",
    "- list\n",
    "-\n",
    "**Examples**\n",
    "\n",
    "If you want to list all of the Datasets that you have access to, you can use the basic form of this function, **before** using `get()` to select an active Project. This may give you some (harmless) errors, but will also list all of the Datasets you have access to:\n",
    "```python\n",
    "dl.datasets.list()\n",
    "```\n",
    "The output should look like this:\n",
    "```python\n",
    "[2023-05-16 13:28:59][WAR][dtlpy:v1.76.17][entities.dataset:145] Dataset has been fetched from a project that is not in it projects list\n",
    "[2023-05-16 13:28:59][WAR][dtlpy:v1.76.17][entities.dataset:145] Dataset has been fetched from a project that is not in it projects list\n",
    "[2023-05-16 13:28:59][WAR][dtlpy:v1.76.17][entities.dataset:145] Dataset has been fetched from a project that is not in it projects list\n",
    "[2023-05-16 13:28:59][WAR][dtlpy:v1.76.17][entities.dataset:145] Dataset has been fetched from a project that is not in it projects list\n",
    "[Dataset(id='63ceb9afb9337b02b55bab50', url='https://gate.dataloop.ai/api/v1/datasets/63ceb9afb9337b02b55bab50', name='Binaries', creator='email@gmail.com', items_count=0, expiration_options=None, index_driver='v1', created_at='2023-01-23T16:45:35.770Z'),\n",
    " Dataset(id='63da62d973b62f22086f1d8f', url='https://gate.dataloop.ai/api/v1/datasets/63da62d973b62f22086f1d8f', name='My-First-Dataset', creator='email@gmail.com', items_count=1, expiration_options=None, index_driver='v1', created_at='2023-02-01T13:02:17.250Z'),\n",
    " Dataset(id='63da63cab9421abb1ddd5a94', url='https://gate.dataloop.ai/api/v1/datasets/63da63cab9421abb1ddd5a94', name='dataset_v2', creator='email@gmail.com', items_count=1, expiration_options=None, index_driver='v1', created_at='2023-02-01T13:06:18.801Z'),\n",
    " Dataset(id='63da644a4d9815630ac3d50f', url='https://gate.dataloop.ai/api/v1/datasets/63da644a4d9815630ac3d50f', name='First_second_merged_dataset', creator='email@gmail.com', items_count=1, expiration_options=None, index_driver='v1', created_at='2023-02-01T13:08:26.592Z'),\n",
    " Dataset(id='63e6280e6a656962930ec4b9', url='https://gate.dataloop.ai/api/v1/datasets/63e6280e6a656962930ec4b9', name='Binaries', creator='email@gmail.com', items_count=15, expiration_options=None, index_driver='v1', created_at='2023-02-10T11:18:38.717Z'),\n",
    " Dataset(id='63e6283b4a03c631b54725ec', url='https://gate.dataloop.ai/api/v1/datasets/63e6283b4a03c631b54725ec', name='Creatures', creator='email@gmail.com', items_count=1132, expiration_options=None, index_driver='v1', created_at='2023-02-10T11:19:23.239Z')\n",
    "```\n",
    "-\n",
    "If you want to list all Datasets available in the current Project, you must first `proj = dl.projects.get(project_name='project_name')` a Project, and then use:\n",
    "\n",
    "```python\n",
    "proj.datasets.list()\n",
    "#or\n",
    "dl.datasets.list()\n",
    "```\n",
    "Both lines of code will do the same thing, after you selected a Project - which is printing all of the Datasets available in the Project you selected:\n",
    "```python\n",
    "[Dataset(id='645cd5d2702bd26db5ff8d5e', url='https://gate.dataloop.ai/api/v1/datasets/645cd5d2702bd26db5ff8d5e', name='Binaries', creator='email@gmail.com', items_count=0, expiration_options=None, index_driver='v1', created_at='2023-05-11T11:47:30.314Z'),\n",
    " Dataset(id='645e54554da72568414553b7', url='https://gate.dataloop.ai/api/v1/datasets/645e54554da72568414553b7', name='Test_Dataset', creator='email@gmail.com', items_count=0, expiration_options=None, index_driver='v1', created_at='2023-05-12T14:59:33.939Z')]\n",
    "```\n",
    "-\n",
    "You can also use this method to print **only** a particular Dataset's details, by using its name:\n",
    "```python\n",
    "dl.datasets.list(name = 'Test_Dataset')\n",
    "```\n",
    "The output to this is a singe Dataset's detail, if you use the right Dataset name:\n",
    "```python\n",
    "[Dataset(id='645e54554da72568414553b7', url='https://gate.dataloop.ai/api/v1/datasets/645e54554da72568414553b7', name='Test_Dataset', creator='email@gmail.com', items_count=0, expiration_options=None, index_driver='v1', created_at='2023-05-12T14:59:33.939Z')]\n",
    "```\n",
    "\n",
    "Finally, you can also use this to print all of the Datasets that were created by a specific creator:\n",
    "```python\n",
    "dl.datasets.list(creator = 'email@dataloop.ai') #put the e-mail of the creator here\n",
    "```"
   ]
  },
  {
   "cell_type": "code",
   "execution_count": 10,
   "id": "6d8b5a99",
   "metadata": {},
   "outputs": [],
   "source": []
  },
  {
   "cell_type": "code",
   "execution_count": 7,
   "id": "f94da578",
   "metadata": {},
   "outputs": [
    {
     "data": {
      "text/plain": [
       "[Dataset(id='645cd5d2702bd26db5ff8d5e', url='https://gate.dataloop.ai/api/v1/datasets/645cd5d2702bd26db5ff8d5e', name='Binaries', creator='myfuncont@gmail.com', items_count=0, expiration_options=None, index_driver='v1', created_at='2023-05-11T11:47:30.314Z'),\n",
       " Dataset(id='645e54554da72568414553b7', url='https://gate.dataloop.ai/api/v1/datasets/645e54554da72568414553b7', name='Test_Dataset', creator='myfuncont@gmail.com', items_count=0, expiration_options=None, index_driver='v1', created_at='2023-05-12T14:59:33.939Z')]"
      ]
     },
     "execution_count": 7,
     "metadata": {},
     "output_type": "execute_result"
    }
   ],
   "source": [
    "dl.datasets.list(creator='myfuncont@gmail.com')"
   ]
  },
  {
   "cell_type": "code",
   "execution_count": null,
   "id": "591447bc",
   "metadata": {},
   "outputs": [],
   "source": []
  },
  {
   "cell_type": "markdown",
   "id": "80ff001a",
   "metadata": {},
   "source": [
    "# <a name=\"merge\"></a> dl.datasets.merge()\n",
    "\n",
    "The `dl.datasets.merge()` method allows you to merge 2 Datasets together. However, for the `merge()` to be performed successfully, the 2 Datasets need to have the same [Recipe and Ontology](https://dataloop.ai/docs/taxonomy-overview). [Read more about Working with Recipes](https://developers.dataloop.ai/tutorials/recipe_and_ontology/recipe/chapter/).\n",
    "\n",
    "Below, you can find all the details about this method.\n",
    "\n",
    "## merge()\n",
    "\n",
    "**Definition:** `merge(merge_name: str, dataset_ids: list, project_ids: str, with_items_annotations: bool=True, with_metadata: bool=True, with_task_annotations_status: bool=True, wait: bool=True)`\n",
    "\n",
    "***Merges 2 Datasets that have the same Recipe and Ontology.***\n",
    "\n",
    "**Prerequisites:** You must be an Owner or Developer(engineer) to use this method.\n",
    "\n",
    "**param str merge_name**\n",
    "- new Dataset's name\n",
    "\n",
    "**param list dataset_ids**\n",
    "- list ID's of the Datatsets you wish to merge\n",
    "\n",
    "**param str project_ids**\n",
    "- the Project id that include the Datasets\n",
    "\n",
    "**param bool with_items_annotations**\n",
    "- true to merge with Item Annotations\n",
    "\n",
    "**param bool with_metadata**\n",
    "- true to merge with Metadata\n",
    "\n",
    "**param bool with_task_annotations_status**\n",
    "- true to merge with Task Annotations' status\n",
    "\n",
    "**param bool wait**\n",
    "- wait for the command to finish\n",
    "\n",
    "**return**\n",
    "- True if success\n",
    "\n",
    "**rtype**\n",
    "- bool\n",
    "\n",
    "**Basic Example**:\n",
    "```python\n",
    "project.datasets.merge(dataset_ids=['dataset_id1','dataset_id2'],\n",
    "                      merge_name='dataset_merge_name',\n",
    "                      with_metadata=True,\n",
    "                      with_items_annotations=False,\n",
    "                      with_task_annotations_status=False)\n",
    "```\n",
    "\n",
    "To provide an easy example on how to merge 2 Datasets, we will clone the `Test_Dataset` we created. The new Dataset that we clone will be named `Test_Dataset_Clone`. We do this because a cloned Dataset will have the same Recipe and Ontology as the original. This way we can show how we can merge the 2 Datasets into a new Dataset called `Test_Dataset_Merged`.\n",
    "\n",
    "First, let's create the clone named `Test_Dataset_Clone`:\n",
    "```python\n",
    "proj.datasets.clone(dataset_id='645cee1b05c36859784c0b37',\n",
    "                      clone_name='Test_Dataset_Clone',\n",
    "                      with_metadata=True,\n",
    "                      with_items_annotations=False,#True if you want\n",
    "                      with_task_annotations_status=False)#True if you want\n",
    "```\n",
    "As an output to this operation, we should see the new (cloned) Dataset's ID, among other details:\n",
    "```python\n",
    "Dataset(id='6463baba74592a2c2b30f399', url='https://gate.dataloop.ai/api/v1/datasets/6463baba74592a2c2b30f399', name='Test_Dataset_Clone', creator='email@gmail.com', items_count=0, expiration_options=None, index_driver='v1', created_at='2023-05-16T17:17:46.938Z')\n",
    "```\n",
    "\n",
    "We cab then merge `Test_Dataset` with `Test_Dataset_Clone`, as we now know both Datasets' IDs (remember that the ID's used in this tutorial will be different from the ones you will get). You will also need the Project IDs for each Dataset - if they are in the same Project, the ID will be the same for Project's IDs. You can find your Project ID by running the line of code below (with your Project Object's name):\n",
    "```python\n",
    "proj.print\n",
    "#or\n",
    "print(proj)\n",
    "```\n",
    "Now, you can add the 2 Dataset's IDs and the Project ID(s) to the line of code below, to merge the 2 Datasets together:\n",
    "```python\n",
    "dl.datasets.merge(dataset_ids=['645cee1b05c36859784c0b37','6463baba74592a2c2b30f399'],\n",
    "                      merge_name='Test_Dataset_Merge',\n",
    "                      with_metadata=True,\n",
    "                      with_items_annotations=False,\n",
    "                      with_task_annotations_status=False)\n",
    "```\n",
    "If the merge is successful, you should see a progress bar and a `True` output:\n",
    "```python\n",
    "Command Progress: 100%|██████████████████████████████████████████████████████████████| 100/100 [00:01<00:00, 53.55it/s]\n",
    "True\n",
    "```\n",
    "You can now check if the 2 Datasets were merged into a new one by trying to `get()` it and print its details:\n",
    "```python\n",
    "merged_dataset= dl.datasets.get(dataset_name='Test_Dataset_Merge')\n",
    "print(merged_dataset)\n",
    "```\n",
    "And you should get as an Output, the details of the Dataset you just created by merging 2 Datasets:\n",
    "```python\n",
    "Dataset(id='6463bc5eb0a8f67d41b9b39e', url='https://gate.dataloop.ai/api/v1/datasets/6463bc5eb0a8f67d41b9b39e', name='Test_Dataset_Merge', creator='email@gmail.com', items_count=0, expiration_options=None, index_driver='v1', created_at='2023-05-16T17:24:46.333Z')\n",
    "```\n",
    "\n",
    "**Note:** The Datasets that were merged will not be deleted. They will still be available to be used individually after the merge is completed."
   ]
  },
  {
   "cell_type": "code",
   "execution_count": 18,
   "id": "571dd9cb",
   "metadata": {},
   "outputs": [
    {
     "name": "stdout",
     "output_type": "stream",
     "text": [
      "Command Progress: 100%|█████████████████████████████████████████████████████████████| 100/100 [00:00<00:00, 387.47it/s]"
     ]
    },
    {
     "name": "stderr",
     "output_type": "stream",
     "text": [
      "[2023-05-16 20:17:47][WAR][dtlpy:v1.76.17][entities.dataset:145] Dataset has been fetched from a project that is not in it projects list\n"
     ]
    },
    {
     "name": "stdout",
     "output_type": "stream",
     "text": [
      "\n"
     ]
    },
    {
     "data": {
      "text/plain": [
       "Dataset(id='6463baba74592a2c2b30f399', url='https://gate.dataloop.ai/api/v1/datasets/6463baba74592a2c2b30f399', name='Test_Dataset_Clone', creator='myfuncont@gmail.com', items_count=0, expiration_options=None, index_driver='v1', created_at='2023-05-16T17:17:46.938Z')"
      ]
     },
     "execution_count": 18,
     "metadata": {},
     "output_type": "execute_result"
    }
   ],
   "source": [
    "proj.datasets.clone(dataset_id='645cee1b05c36859784c0b37',\n",
    "                      clone_name='Test_Dataset_Clone',\n",
    "                      with_metadata=True,\n",
    "                      with_items_annotations=False,#True if you want\n",
    "                      with_task_annotations_status=False)#True if you want"
   ]
  },
  {
   "cell_type": "code",
   "execution_count": 21,
   "id": "f484a455",
   "metadata": {},
   "outputs": [
    {
     "name": "stdout",
     "output_type": "stream",
     "text": [
      "Project(created_at=1683805649832, creator='myfuncont@gmail.com', id='b9ee960e-9626-46c7-92d9-95c84d6a2730', name='Dataset_Project', feature_constraints=[{'name': 'downloadJsons', 'quota': 1, 'title': 'Download Annotation as Json'}, {'name': 'createGPUService', 'quota': 1, 'title': 'Create GPU service'}, {'name': 'createIntegration', 'quota': 1, 'title': 'Create Integrations'}, {'name': 'createDriver', 'quota': 1, 'title': 'Create Driver'}])\n"
     ]
    }
   ],
   "source": [
    "print(proj)"
   ]
  },
  {
   "cell_type": "code",
   "execution_count": 23,
   "id": "dc9c36c1",
   "metadata": {},
   "outputs": [
    {
     "name": "stdout",
     "output_type": "stream",
     "text": [
      "Command Progress: 100%|██████████████████████████████████████████████████████████████| 100/100 [00:01<00:00, 53.55it/s]\n"
     ]
    },
    {
     "data": {
      "text/plain": [
       "True"
      ]
     },
     "execution_count": 23,
     "metadata": {},
     "output_type": "execute_result"
    }
   ],
   "source": [
    "dl.datasets.merge(dataset_ids=['645cee1b05c36859784c0b37','6463baba74592a2c2b30f399'],\n",
    "                    project_ids=['b9ee960e-9626-46c7-92d9-95c84d6a2730','b9ee960e-9626-46c7-92d9-95c84d6a2730'],\n",
    "                    merge_name='Test_Dataset_Merge',\n",
    "                    with_metadata=True,\n",
    "                    with_items_annotations=False,\n",
    "                    with_task_annotations_status=False)"
   ]
  },
  {
   "cell_type": "code",
   "execution_count": null,
   "id": "a7173461",
   "metadata": {},
   "outputs": [],
   "source": []
  },
  {
   "cell_type": "code",
   "execution_count": 26,
   "id": "21971ebd",
   "metadata": {},
   "outputs": [
    {
     "name": "stdout",
     "output_type": "stream",
     "text": [
      "Dataset(id='6463bc5eb0a8f67d41b9b39e', url='https://gate.dataloop.ai/api/v1/datasets/6463bc5eb0a8f67d41b9b39e', name='Test_Dataset_Merge', creator='myfuncont@gmail.com', items_count=0, expiration_options=None, index_driver='v1', created_at='2023-05-16T17:24:46.333Z')\n"
     ]
    }
   ],
   "source": [
    "merged_dataset= dl.datasets.get(dataset_name='Test_Dataset_Merge')\n",
    "print(merged_dataset)"
   ]
  },
  {
   "cell_type": "code",
   "execution_count": null,
   "id": "4210d26b",
   "metadata": {},
   "outputs": [],
   "source": []
  },
  {
   "attachments": {
    "image.png": {
     "image/png": "[encoded data removed]"
    }
   },
   "cell_type": "markdown",
   "id": "b2722e7d",
   "metadata": {},
   "source": [
    "# <a name=\"open_in_web\"></a> dl.datasets.open_in_web()\n",
    "\n",
    "The `dl.datasets.open_in_web()` method opens the Datasets in the WebUI of Dataloop. You can open a Dataset in the WebUI by using its ID or Name.\n",
    "\n",
    "See all details of this function below.\n",
    "\n",
    "## open_in_web()\n",
    "\n",
    "**Definition:** `open_in_web(dataset_name: str=None, dataset_id: str=None, dataset: entities.Dataset=None)`\n",
    "\n",
    "***Opens the Dataset in webUI of Dataloop's platform.***\n",
    "\n",
    "**Prerequisites:** You must be an Owner or Developer (engineer) to use this method.\n",
    "\n",
    "**param str dataset_name**\n",
    "- The Name of the Dataset\n",
    "\n",
    "**param str dataset_id**\n",
    "- The Id of the Dataset\n",
    "\n",
    "**param dtlpy.entities.dataset.Dataset dataset**\n",
    "- Dataset object\n",
    "\n",
    "**Example:**\n",
    "```python\n",
    "proj.datasets.open_in_web(dataset_id='dataset_id') #or dl.\n",
    "or\n",
    "dl.datasets.open_in_web(dataset_id='dataset_id')#or proj. (Project object's name)\n",
    "```\n",
    "You can open a Dataset in WebUI in 3 different ways. You can use the `open_in_web` method on an Dataset object/variable you defined, use it on a Datast by Name or using the Dataset's ID. See all methods below:\n",
    "```python\n",
    "# dataset is an Dataset Object/Variable that you got using the `get` code for datasets below:\n",
    "# dataset = dl.datasets.get(dataset_name='dataset_name') # replace with your dataset's name\n",
    "dataset.open_in_web() \n",
    "#or\n",
    "dl.datasets.open_in_web(dataset_name='Test_Dataset')#or proj. (project variable/object)\n",
    "\n",
    "#or\n",
    "\n",
    "proj.datasets.open_in_web(dataset_id='6463bc5eb0a8f67d41b9b39e')#or dl.\n",
    "\n",
    "# or open all datasets in the current active Project\n",
    "dl.datasets.open_in_web()\n",
    "```\n",
    "\n",
    "All of the code line above, should open the Dataset in the WebUi of Dataloop, which should look like the image below:\n",
    "![image.png](attachment:image.png)"
   ]
  },
  {
   "cell_type": "code",
   "execution_count": 34,
   "id": "5af98336",
   "metadata": {},
   "outputs": [],
   "source": [
    "dl.datasets.open_in_web(dataset_name='Test_Dataset')\n"
   ]
  },
  {
   "cell_type": "code",
   "execution_count": 31,
   "id": "6dc46e6f",
   "metadata": {},
   "outputs": [],
   "source": [
    "dl.datasets.open_in_web(dataset_name='Test_Dataset')#or proj. (project variable/object)"
   ]
  },
  {
   "cell_type": "code",
   "execution_count": 33,
   "id": "284bf9bf",
   "metadata": {},
   "outputs": [],
   "source": [
    "proj.datasets.open_in_web(dataset_id='6463bc5eb0a8f67d41b9b39e')"
   ]
  },
  {
   "cell_type": "code",
   "execution_count": null,
   "id": "f2bbd984",
   "metadata": {},
   "outputs": [],
   "source": []
  },
  {
   "cell_type": "markdown",
   "id": "56547237",
   "metadata": {},
   "source": [
    "asd"
   ]
  },
  {
   "cell_type": "code",
   "execution_count": 35,
   "id": "ba776a5b",
   "metadata": {},
   "outputs": [
    {
     "data": {
      "text/plain": [
       "Project(created_at=1683805649832, creator='myfuncont@gmail.com', id='b9ee960e-9626-46c7-92d9-95c84d6a2730', name='Dataset_Project', feature_constraints=[{'name': 'downloadJsons', 'quota': 1, 'title': 'Download Annotation as Json'}, {'name': 'createGPUService', 'quota': 1, 'title': 'Create GPU service'}, {'name': 'createIntegration', 'quota': 1, 'title': 'Create Integrations'}, {'name': 'createDriver', 'quota': 1, 'title': 'Create Driver'}])"
      ]
     },
     "execution_count": 35,
     "metadata": {},
     "output_type": "execute_result"
    }
   ],
   "source": [
    "  "
   ]
  },
  {
   "cell_type": "code",
   "execution_count": null,
   "id": "4fe7a421",
   "metadata": {},
   "outputs": [],
   "source": []
  },
  {
   "cell_type": "markdown",
   "id": "48507575",
   "metadata": {},
   "source": [
    "# <a name=\"set_readonly\"></a> dl.datasets.set_readonly()\n",
    "\n",
    "The `dl.datasets.set_readonly()` method allows you to make the Dataset Read-Only, which means that only the users having the Owner role can modify it after they deactivate the Read-Only mode.\n",
    "\n",
    "You can see the details of this method, below.\n",
    "\n",
    "## set_readonly()\n",
    "\n",
    "**Definition:** `set_readonly(state: bool, dataset: entities.Dataset)`\n",
    "\n",
    "***Set Dataset's Read-Only mode.***\n",
    "\n",
    "**Prerequisites:** You must be in the role of an Owner.\n",
    "\n",
    "**param bool state**\n",
    "- state to update readonly mode\n",
    "\n",
    "**param dtlpy.entities.dataset.Dataset dataset**\n",
    "- dataset object\n",
    "\n",
    "**Example:**\n",
    "```python\n",
    "project.datasets.set_readonly(dataset='dataset_entity', state=True)\n",
    "```\n",
    "Below, you will see an example of this method being implemented for the `Test_Dataset` Dataset object we created:\n",
    "```python\n",
    "# d_set is the dataset object/variable we created using:\n",
    "# d_set = dl.datasets.create(dataset_name=`Test_Dataset`)\n",
    "d_set = dl.datasets.get(dataset_name='Test_Dataset') \n",
    "dl.datasets.set_readonly(dataset=d_set, state=True)\n",
    "```\n",
    "This will set the Dataset as Read-Only, which means that no modifications can be done to the Items, Recipes, Ontologies, Annotations, etc. inside of it. To prove that, we will create a new Label called \"Dog\" and then try to delete it. First, we create the new Label:\n",
    "```python\n",
    "d_set.add_label(label_name=\"Dog\") #Adds a new label called Dog\n",
    "d_set.labels #used to list all labels from the dataset\n",
    "```\n",
    "By running the code above, you should get this output and all other Labels you have inside of the Dataset:\n",
    "```python\n",
    "[Label(tag='Dog', display_data={}, color='#01d1c0', display_label='Dog', attributes=[], children=[])]\n",
    "```\n",
    "Now we will try deleting the Label using this code:\n",
    "```python\n",
    "d_set.delete_labels(label_names='Dog')\n",
    "```\n",
    "Now, if we try to list the Lables in the Dataset, we will see that the \"Dog\" Label is still present:\n",
    "```python\n",
    "d_set.labels\n",
    "```\n",
    "Output:\n",
    "```python\n",
    "[Label(tag='Dog', display_data={}, color='#01d1c0', display_label='Dog', attributes=[], children=[])]\n",
    "```\n",
    "\n",
    "To deactivate the Read-Only mode of the Dataset, use the code below:\n",
    "```python\n",
    "dl.datasets.set_readonly(dataset=d_set, state=False)\n",
    "```"
   ]
  },
  {
   "cell_type": "code",
   "execution_count": 42,
   "id": "0845ec30",
   "metadata": {},
   "outputs": [
    {
     "name": "stderr",
     "output_type": "stream",
     "text": [
      "[2023-05-16 22:11:13][WAR][dtlpy:v1.76.17][repositories.datasets:951] Dataset is already \"readonly=True\". Nothing was done\n"
     ]
    }
   ],
   "source": [
    "d_set = dl.datasets.get(dataset_name='Test_Dataset')\n",
    "dl.datasets.set_readonly(dataset=d_set, state=True)"
   ]
  },
  {
   "cell_type": "code",
   "execution_count": 49,
   "id": "fa471f66",
   "metadata": {},
   "outputs": [],
   "source": [
    "d_set.delete_labels(label_names='Dog')"
   ]
  },
  {
   "cell_type": "code",
   "execution_count": 50,
   "id": "63413c22",
   "metadata": {},
   "outputs": [
    {
     "data": {
      "text/plain": [
       "[Label(tag='Dog', display_data={}, color='#01d1c0', display_label='Dog', attributes=[], children=[])]"
      ]
     },
     "execution_count": 50,
     "metadata": {},
     "output_type": "execute_result"
    }
   ],
   "source": [
    "d_set.labels"
   ]
  },
  {
   "cell_type": "code",
   "execution_count": 51,
   "id": "fec30aca",
   "metadata": {},
   "outputs": [],
   "source": [
    "dl.datasets.set_readonly(dataset=d_set, state=False)"
   ]
  },
  {
   "cell_type": "code",
   "execution_count": 54,
   "id": "913b0c48",
   "metadata": {},
   "outputs": [],
   "source": [
    "d_set.delete_labels(label_names='Dog')"
   ]
  },
  {
   "cell_type": "code",
   "execution_count": 55,
   "id": "32d05bca",
   "metadata": {},
   "outputs": [
    {
     "data": {
      "text/plain": [
       "[Label(tag='Dog', display_data={}, color='#01d1c0', display_label='Dog', attributes=[], children=[])]"
      ]
     },
     "execution_count": 55,
     "metadata": {},
     "output_type": "execute_result"
    }
   ],
   "source": [
    "d_set.labels"
   ]
  },
  {
   "cell_type": "code",
   "execution_count": null,
   "id": "ff4ff5e4",
   "metadata": {},
   "outputs": [],
   "source": []
  },
  {
   "cell_type": "markdown",
   "id": "8e61bbd2",
   "metadata": {},
   "source": [
    "# <a name=\"update\"></a> dl.datasets.update()\n",
    "\n",
    "The `dl.datasets.update()` method allows you to update the Dataset with the latest changes.\n",
    "\n",
    "You can see all the details of this method below.\n",
    "\n",
    "## update\n",
    "**Definition:** `update(dataset: entities.Dataset, system_metadata: bool=False, patch: dict=None) -> entities.Dataset`\n",
    "\n",
    "***Update dataset field.***\n",
    "\n",
    "**Prerequisites:** You must be an Owner or Developer (engineer) to use this method.\n",
    "\n",
    "**param dtlpy.entities.dataset.Dataset dataset**\n",
    "- Dataset object\n",
    "\n",
    "**param bool system_metadata**\n",
    "- True, if you want to change metadata system\n",
    "\n",
    "**param dict patch**\n",
    "- Specific patch request\n",
    "\n",
    "**return**\n",
    "- Dataset object\n",
    "\n",
    "**rtype**\n",
    "- dtlpy.entities.dataset.Dataset\n",
    "\n",
    "**Example:**\n",
    "```python\n",
    "dataset = project.datasets.update(dataset_entity)\n",
    "```\n",
    "\n",
    "You can see working code below, on our example Dataset:\n",
    "```python\n",
    "d_set = dl.datasets.update(d_set) # or proj.datasets.update(d_set)\n",
    "```\n",
    "The output of this method is a Dataset Object. That output looks like this:\n",
    "```python\n",
    "Dataset(id='645e54554da72568414553b7', url='https://gate.dataloop.ai/api/v1/datasets/645e54554da72568414553b7', name='Test_Dataset', creator='email@gmail.com', items_count=0, expiration_options=None, index_driver='v1', created_at='2023-05-12T14:59:33.939Z')\n",
    "```"
   ]
  },
  {
   "cell_type": "code",
   "execution_count": 57,
   "id": "28f1d333",
   "metadata": {},
   "outputs": [],
   "source": [
    "d_set = dl.datasets.update(d_set) # or proj.datasets.update(d_set)"
   ]
  },
  {
   "cell_type": "code",
   "execution_count": 58,
   "id": "eea06507",
   "metadata": {},
   "outputs": [
    {
     "data": {
      "text/plain": [
       "Dataset(id='645e54554da72568414553b7', url='https://gate.dataloop.ai/api/v1/datasets/645e54554da72568414553b7', name='Test_Dataset', creator='myfuncont@gmail.com', items_count=0, expiration_options=None, index_driver='v1', created_at='2023-05-12T14:59:33.939Z')"
      ]
     },
     "execution_count": 58,
     "metadata": {},
     "output_type": "execute_result"
    }
   ],
   "source": [
    "dl.datasets.update(d_set)"
   ]
  },
  {
   "cell_type": "code",
   "execution_count": null,
   "id": "2dc839bf",
   "metadata": {},
   "outputs": [],
   "source": []
  },
  {
   "cell_type": "markdown",
   "id": "bb1ba5a1",
   "metadata": {},
   "source": [
    "# <a name=\"upload_annotations\"></a> dl.datasets.upload_annotations()\n",
    "\n",
    "The `dl.datasets.upload_annotations()` method allows you to upload Annotations to the Dataloop Platform. Above, we showed [how to download Annotations](#download_annotations). Once downloaded, you can also upload them back to the Dataloop platform, even to another Dataset.\n",
    "\n",
    "You can see all the details about this method, below.\n",
    "\n",
    "## upload_annotations()\n",
    "**Definition:** `upload_annotations(dataset, local_path, filters: entities.Filters=None, clean=False, remote_root_path='/', export_version=entities.ExportVersion.V1)`\n",
    "\n",
    "**Upload Annotations to a Dataset in the Dataloop platform.**\n",
    "\n",
    "*Example for remote_root_path - if the Item filepath is a/b/item and remote_root_path is /a the start folder will be b instead of a.*\n",
    "\n",
    "**Prerequisites:** *You must have a Dataset with Items that are related to the Annotations. The relationship between the dataset and annotations is shown in the name. You must be in the role of an Owner or Developer (engineer).*\n",
    "\n",
    "**param dtlpy.entities.dataset.Dataset dataset**\n",
    "- Dataset to upload to\n",
    "\n",
    "**param str local_path**\n",
    "- str - local folder where the Annotations files are\n",
    "\n",
    "**param dtlpy.entities.filters.Filters filters**\n",
    "- Filters entity or a dictionary containing filters parameters\n",
    "\n",
    "**param bool clean**\n",
    "- True to remove the old annotations\n",
    "\n",
    "**param str remote_root_path**\n",
    "- the remote root path to match remote and local items\n",
    "\n",
    "**param str export_version**\n",
    "- exported items will have original extension in filename, V1 - no original extension in filenames\n",
    "\n",
    "**Example:**\n",
    "```python\n",
    "project.datasets.upload_annotations(dataset='dataset_entity',\n",
    "                                     local_path='local_path',\n",
    "                                     clean=False,\n",
    "                                     export_version=dl.ExportVersion.V1\n",
    "                                     )\n",
    "```\n",
    "The code, customised to our dataset `d_set` looks like this:\n",
    "```python\n",
    "dl.datasets.upload_annotations(d_set,\n",
    "                                local_path='local_path',\n",
    "                                clean=False,\n",
    "                                export_version=dl.ExportVersion.V1\n",
    "                                )\n",
    "```\n",
    "The output you get after running this method is 2 progress bars - Upload Annotations and Iterate Entity; once they are finished, the annotations should be uploaded to the Dataset. If no Annotation was uploaded (if the path you provided has no Annotations in it), you will get a *warning* looking like this:\n",
    "```python\n",
    "[2023-05-16 22:55:48][WAR][dtlpy:v1.76.17][repositories.datasets:926] No annotations uploaded to dataset!\n",
    "```"
   ]
  },
  {
   "cell_type": "code",
   "execution_count": 59,
   "id": "5d73080a",
   "metadata": {},
   "outputs": [
    {
     "name": "stdout",
     "output_type": "stream",
     "text": [
      "Upload Annotations: 0it [00:00, ?it/s]\n",
      "Iterate Entity: 0it [00:00, ?it/s]\u001b[A"
     ]
    },
    {
     "name": "stderr",
     "output_type": "stream",
     "text": [
      "[2023-05-16 22:55:48][WAR][dtlpy:v1.76.17][repositories.datasets:926] No annotations uploaded to dataset! \n"
     ]
    },
    {
     "name": "stdout",
     "output_type": "stream",
     "text": [
      "\n",
      "Upload Annotations: 0it [00:00, ?it/s]\n"
     ]
    }
   ],
   "source": [
    "dl.datasets.upload_annotations(d_set,\n",
    "                                local_path='local_path',\n",
    "                                clean=False,\n",
    "                                export_version=dl.ExportVersion.V1\n",
    "                                )"
   ]
  },
  {
   "cell_type": "markdown",
   "id": "ae9cac89",
   "metadata": {},
   "source": [
    "## Final Words\n",
    "\n",
    "Dataloop has a lot of resources that can help you learn about the services we offer. However, it may be challenging to have a comprehensive understanding of the location of all resources or to locate something particular that you need. That's why we took care of organising all of them. \n",
    "\n",
    "Below, you will find links to a **mindmap** showing all of the resources available - each element is clickable and will redirect you to that resource. You will also find other Documentation pages and their descriptions, so you know where to look, and what you'll find.\n",
    "\n",
    "1. [Dataloop's Developer Mindmap](https://gitmind.com/app/docs/m7u63dss) - a visual representation of all the resources available for developers.\n",
    "2. [Dataloop's Developer Documentation on Redocly](https://developers.dataloop.ai/tutorials/tutorials/) - here you will find a [Beginner Onboarding](https://developers.dataloop.ai/onboarding/onboarding/) which will walk you throught the basics of using Dataloop's platform from the Python SDK, and also an [Advanced Onboarding Exercise](https://developers.dataloop.ai/onboarding/11_onboarding_exercise/) which will show you how to use the platform on a more complicated usecase; [you can also find them on GitHub](https://github.com/dataloop-ai/dtlpy-documentation), if that's your thing.\n",
    "3. [Dataloop's Main GitHub Repository](https://github.com/dataloop-ai) - this repository contains the main dtlpy package, along with its documentation and other resources; this is meant to be a \"clean\" space containing the critical elements of Dataloop.\n",
    "4. [Dataloop's Developer GitHub Repository](https://github.com/dataloop-ai-apps) - this repository contains resources, exercises, examples, documentations, etc. - it's  a Developer Community, which offers resources  from which developers can learn about the platform, ask questions, and find useful code and guides that will solve their problems. \n",
    "5. [Dataloop's API Documentation](https://github.com/dataloop-ai-apps/dataloop-api-documentation) - this documentation is a beginner's guide to how to use Dataloop's Rest APIAPI ([click here to open the Swagger UI API page](https://gate.dataloop.ai/api/v1/docs/#/)); it will walk you through what API's are in general, what Dataloop's API is, how it helps you, why you should use it and teaches you **how** to use it. You can also [find a \"Glossary\" of all API commands here](https://github.com/dataloop-ai-apps/dataloop-api-documentation/blob/main/02_swagger_ui_api_guide.md).\n",
    "6. [Dataloop's WebUI Version](https://console.dataloop.ai/welcome) - remember that you can always use (and should use) the WebUI version of Dataloop; some things are easier to do on the WebUI version, while others are easier to do in the PythonSDK version - so be sure to use both.\n",
    "\n",
    "Finally, if you have any troubles in your journey to learn and use Dataloop, you can always contact us for help by clicking the small e-mail button located at the bottom right of the [main Dataloop web page](https://dataloop.ai/), or even [book a demo so we can walk you through how to use Dataloop](https://dataloop.ai/#talkToAnExpert).\n"
   ]
  },
  {
   "cell_type": "code",
   "execution_count": null,
   "id": "3f8afee6",
   "metadata": {},
   "outputs": [],
   "source": []
  }
 ],
 "metadata": {
  "kernelspec": {
   "display_name": "Python 3 (ipykernel)",
   "language": "python",
   "name": "python3"
  },
  "language_info": {
   "codemirror_mode": {
    "name": "ipython",
    "version": 3
   },
   "file_extension": ".py",
   "mimetype": "text/x-python",
   "name": "python",
   "nbconvert_exporter": "python",
   "pygments_lexer": "ipython3",
   "version": "3.10.9"
  }
 },
 "nbformat": 4,
 "nbformat_minor": 5
}
